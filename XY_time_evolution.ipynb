{
 "cells": [
  {
   "cell_type": "markdown",
   "metadata": {},
   "source": [
    "author: Samuel Begg\n",
    "\n",
    "date: 06/04/2024\n",
    "\n",
    "Compute Fisher information for a periodically driven XY model, as discussed in Mishra, Bayat, Phys. Rev. Lett. 127, 080504 (2021)\n",
    "\n",
    "1. Define simulation parameters"
   ]
  },
  {
   "cell_type": "code",
   "execution_count": 13,
   "metadata": {},
   "outputs": [],
   "source": [
    "import methods\n",
    "import numpy as np\n",
    "import scipy.linalg as lin\n",
    "from datetime import datetime\n",
    "import copy\n",
    "from joblib import Parallel, delayed, load, dump\n",
    "from scipy.interpolate import interp1d\n",
    "from scipy.integrate import solve_ivp\n",
    "\n",
    "stem0 = '/Users/samuelbegg/'\n",
    "stem = stem0  + 'Documents/Sensing/'\n",
    "\n",
    "# System parameters for periodic boundary condition spin chain\n",
    "J = 1.0  # +ve is Ferromagnet [Hamiltonian as defined Mishra, Bayat, PRL 127, 080504 (2021)]\n",
    "gamma = 1.0\n",
    "sites = 100\n",
    "h1_amp = 1.5\n",
    "h1_period = 1.0 #period of the drive\n",
    "\n",
    "# Initial state\n",
    "initial_state = 'ground_state' \n",
    "# 'ground_state': starts in the system ground-state. \n",
    "# 'flips': manually flips specific spins (with the rest down), see below. Default: single flip. Odd number of excitations (spin) = even parity (fermions) = PBC. \n",
    "# 'momentum': a k = 0 momentum state. Even parity = PBC.\n",
    "# 'spin_up': all spins up, odd number excitations (spin) = even parity = PBC, even number excitations (spin) = odd parity (fermions) = ABC\n",
    "\n",
    "# Boundary conditions\n",
    "boundary_conditions = 'PBC' \n",
    "# 'PBC' = periodic boundary conditions or 'ABC' = anti-periodic boundary conditions\n",
    "# The boundary conditions must reflect the fermion parity in the initial conditions (see above).\n",
    "# The Fourier transform definition is automatically adjusted based on number sites and boundary conditions, as in arXiv:1707.02400.\n",
    "\n",
    "# Sensing parameters\n",
    "phasepoints = 1 # number of points for calculating h0\n",
    "h0mat = np.linspace(0.9, 0.9, phasepoints) #+ 0.001 * np.ones(phasepoints) # range of h0 points to sample\n",
    "sub_system_range = np.arange(20,20+1) # range of subsystem sizes for evaluating Fisher information\n",
    "\n",
    "# Time and integration parameters\n",
    "dt = 0.01 # time step data is saved at\n",
    "times = 100 # number of steps \n",
    "tvec = dt * np.arange(1,times+1) # time vector for output\n",
    "method = 'RK45' # integration method #'RK45' (4th order), 'DOP853' (8th order), 'BDF'\n",
    "rtol = 10**(-12) # relative tolerance of integration scheme\n",
    "atol = 10**(-14) # absolute tolerance of integration scheme\n",
    "\n",
    "# Fisher Information Computation\n",
    "tol = 10**(-8) # when evaluating the Fisher information we don't consider singular terms for which |w[rr] + w[ss]| < tol \n",
    "shift = 10**(-7) # finite division size for calculating derivative of reduced density matrix, i.e. drho/dh0 ~ (rho(h0) - rho(h0 + shift))/shift for the order2 version\n",
    "derivative_estimator = 'order4' # 2nd order = 'order2' or 4th order 'order4' approximation for the derivative of reduced density matrix\n",
    "num_cores = -1  # number of cores to parallelize with\n",
    "save_results = 'save' # 'save' or 'bin' \n",
    "\n",
    "# Initialize periodic field\n",
    "h1 = h1_amp*np.sin(2*np.pi/(h1_period)*dt*np.arange(0,times+1)) # initialize periodic field, note + 1 time added here for RK4 and heun integration step endpoints\n"
   ]
  },
  {
   "cell_type": "markdown",
   "metadata": {},
   "source": [
    "2. Initialize correlation matrices <c^{dag}_i c_j> and <c^{dag}_i c^{dag}_j>\n"
   ]
  },
  {
   "cell_type": "code",
   "execution_count": 14,
   "metadata": {},
   "outputs": [],
   "source": [
    "obs, Dag_obs = methods.initialize_state(sites, gamma, J, h0mat[0], h1[0], boundary_conditions, initial_state)"
   ]
  },
  {
   "cell_type": "markdown",
   "metadata": {},
   "source": [
    "3. Perform time-evolution for a range of h_0"
   ]
  },
  {
   "cell_type": "code",
   "execution_count": 15,
   "metadata": {},
   "outputs": [
    {
     "name": "stdout",
     "output_type": "stream",
     "text": [
      "0 h0 value =  0.9\n",
      "0:00:15.022359 End Simulation\n",
      "0:00:15.023499 End Simulation\n",
      "0:00:15.394973 End Simulation\n",
      "0:00:15.342646 End Simulation\n",
      "0:00:14.867004 End Simulation\n",
      "Simulations finished, reduced density matrices extracted. Now calculate Fisher information.\n",
      "Analyse sub_system L = 20\n"
     ]
    },
    {
     "name": "stderr",
     "output_type": "stream",
     "text": [
      "/Users/samuelbegg/Documents/Sensing/methods.py:1208: ComplexWarning: Casting complex values to real discards the imaginary part\n",
      "  Fisher[zzz,ttt] = Fisher_time\n"
     ]
    },
    {
     "name": "stdout",
     "output_type": "stream",
     "text": [
      "Subsystem analaysis complete. Number of avoided divergences (average per time) = 298\n",
      "0:00:00.735370 End Fisher Calculation\n"
     ]
    }
   ],
   "source": [
    "Fisher_mat = []\n",
    "particle_numberL = []\n",
    "particle_numberR = []\n",
    "pair_creationL = []\n",
    "corrmatL = []\n",
    "\n",
    "#loop over h0\n",
    "output = Parallel(n_jobs=num_cores)(delayed(methods.Fisher_Calc_eff)(phase, obs, Dag_obs, J, gamma, h0mat[phase], shift, h1, times, dt, sites, sub_system_range, tol, derivative_estimator, method, initial_state, boundary_conditions, atol, rtol) for phase in range(0,phasepoints))\n",
    "\n",
    "#collect output of parallel computation\n",
    "for kk in range(0,phasepoints):\n",
    "    \n",
    "    data = output[kk]\n",
    "\n",
    "    Fisher_mat = Fisher_mat + [data[0]]\n",
    "\n",
    "    particle_numberL = particle_numberL + [data[1]]\n",
    "\n",
    "    corrmatL = corrmatL + [data[2]]\n",
    "\n",
    "    pair_creationL = pair_creationL + [data[3]]\n",
    "\n",
    "    \n",
    "#Calculate time average over 2nd half of time evolution to get steady state Fisher information\n",
    "\n",
    "#initialize variables\n",
    "time_tot = np.size(Fisher_mat[0][0,:])\n",
    "\n",
    "Fisher_av = np.zeros([phasepoints,np.size(sub_system_range)])\n",
    "\n",
    "#loop over h0 and subsystem size\n",
    "for kk in range(0, phasepoints):\n",
    "\n",
    "    for ss in range(0, np.size(sub_system_range)):\n",
    "        #Extract steady state (or late time) Fisher information by averaging over final 10% of times\n",
    "        Fisher_av[kk,ss] = Fisher_av[kk,ss] + np.mean(Fisher_mat[kk][ss,int(9*time_tot/10):int(time_tot)])\n",
    "        "
   ]
  },
  {
   "cell_type": "markdown",
   "metadata": {},
   "source": [
    "4. Save Results"
   ]
  },
  {
   "cell_type": "code",
   "execution_count": 16,
   "metadata": {},
   "outputs": [],
   "source": [
    "measure_tvec = dt * np.arange(0,len(Fisher_mat[0][0][:]))\n",
    "\n",
    "rtol = 10\n",
    "if save_results == 'save':\n",
    "    \n",
    "    np.save('Results/h0mat.npy',h0mat)\n",
    "    np.save('Results/measure_tvec.npy',measure_tvec)\n",
    "    np.save('Results/Fisher_mat.npy',Fisher_mat)\n",
    "    np.save('Results/density.npy',particle_numberL)\n",
    "    np.save('Results/pair_creation.npy',pair_creationL)\n",
    "    np.save('Results/corrmat.npy',corrmatL)\n",
    "    np.save('Results/subsystem_range.npy',sub_system_range)\n",
    "\n",
    "    np.save('Results/h0mat_100_test_h_0.9_subsystem_'+str(sub_system_range[0])+'.npy',h0mat)\n",
    "    np.save('Results/measure_tvec_100_test_h_0.9_subsystem_'+str(sub_system_range[0])+'.npy',measure_tvec)\n",
    "    np.save('Results/Fisher_mat_100_test_h_0.9_subsystem_'+str(sub_system_range[0])+'.npy',Fisher_mat)\n",
    "    np.save('Results/density_100_test_h_0.9_subsystem_'+str(sub_system_range[0])+'.npy',particle_numberL)\n",
    "    np.save('Results/pair_creation_100_test_h_0.9_subsystem_'+str(sub_system_range[0])+'.npy',pair_creationL)\n",
    "    np.save('Results/corrmat_100_test_h_0.9_subsystem_'+str(sub_system_range[0])+'.npy',corrmatL)\n",
    "    np.save('Results/subsystem_range_100_test_h_0.9_subsystem_'+str(sub_system_range[0])+'.npy',sub_system_range)"
   ]
  }
 ],
 "metadata": {
  "kernelspec": {
   "display_name": "base",
   "language": "python",
   "name": "python3"
  },
  "language_info": {
   "codemirror_mode": {
    "name": "ipython",
    "version": 3
   },
   "file_extension": ".py",
   "mimetype": "text/x-python",
   "name": "python",
   "nbconvert_exporter": "python",
   "pygments_lexer": "ipython3",
   "version": "3.12.4"
  }
 },
 "nbformat": 4,
 "nbformat_minor": 2
}
